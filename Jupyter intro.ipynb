{
 "cells": [
  {
   "cell_type": "markdown",
   "id": "7d609169",
   "metadata": {},
   "source": [
    "# Hello world!"
   ]
  },
  {
   "cell_type": "code",
   "execution_count": 1,
   "id": "99bcbf61",
   "metadata": {},
   "outputs": [
    {
     "name": "stdout",
     "output_type": "stream",
     "text": [
      "Hello, world!\n"
     ]
    }
   ],
   "source": [
    "print(\"Hello, world!\")"
   ]
  },
  {
   "cell_type": "markdown",
   "id": "d1f02c2c",
   "metadata": {},
   "source": [
    "## Personalize it!"
   ]
  },
  {
   "cell_type": "code",
   "execution_count": 2,
   "id": "15e35b7b",
   "metadata": {},
   "outputs": [
    {
     "name": "stdout",
     "output_type": "stream",
     "text": [
      "Hello, my name is [Your Name]!\n"
     ]
    }
   ],
   "source": [
    "print(\"Hello, my name is [Your Name]!\")"
   ]
  },
  {
   "cell_type": "markdown",
   "id": "dc3aabe4",
   "metadata": {},
   "source": [
    "# Let's do some simple math."
   ]
  },
  {
   "cell_type": "markdown",
   "id": "dd652aa8",
   "metadata": {},
   "source": [
    "* plus"
   ]
  },
  {
   "cell_type": "code",
   "execution_count": 10,
   "id": "05bfcfdb",
   "metadata": {},
   "outputs": [
    {
     "name": "stdout",
     "output_type": "stream",
     "text": [
      "2 + 3 = 5\n"
     ]
    }
   ],
   "source": [
    "print(\"2 + 3 =\", 2+3)"
   ]
  },
  {
   "cell_type": "markdown",
   "id": "8a32bfa8",
   "metadata": {},
   "source": [
    "* multiplication"
   ]
  },
  {
   "cell_type": "code",
   "execution_count": 11,
   "id": "a2a81788",
   "metadata": {},
   "outputs": [
    {
     "name": "stdout",
     "output_type": "stream",
     "text": [
      "10 * 5 = 50\n"
     ]
    }
   ],
   "source": [
    "print(\"10 * 5 =\", 10*5)"
   ]
  },
  {
   "cell_type": "markdown",
   "id": "5df3f1be",
   "metadata": {},
   "source": [
    "# ASCII Art"
   ]
  },
  {
   "cell_type": "code",
   "execution_count": 4,
   "id": "4914eb46",
   "metadata": {},
   "outputs": [
    {
     "name": "stdout",
     "output_type": "stream",
     "text": [
      "  *  \n",
      " *** \n",
      "*****\n"
     ]
    }
   ],
   "source": [
    "print(\"  *  \")\n",
    "print(\" *** \")\n",
    "print(\"*****\")"
   ]
  },
  {
   "cell_type": "markdown",
   "id": "db4d66fc",
   "metadata": {},
   "source": [
    "Try making your own small ASCII design (e.g., smiley face 🙂)."
   ]
  },
  {
   "cell_type": "markdown",
   "id": "67212b58",
   "metadata": {},
   "source": [
    "# Tell me something about you"
   ]
  },
  {
   "cell_type": "code",
   "execution_count": 5,
   "id": "b69f4194",
   "metadata": {},
   "outputs": [
    {
     "name": "stdout",
     "output_type": "stream",
     "text": [
      "My favorite color is blue\n",
      "My favorite food is pizza\n"
     ]
    }
   ],
   "source": [
    "print(\"My favorite color is blue\")\n",
    "print(\"My favorite food is pizza\")"
   ]
  },
  {
   "cell_type": "markdown",
   "id": "18c0ee85",
   "metadata": {},
   "source": [
    "# Working with Libraries"
   ]
  },
  {
   "cell_type": "code",
   "execution_count": 6,
   "id": "dc3f7c9c",
   "metadata": {},
   "outputs": [
    {
     "name": "stdout",
     "output_type": "stream",
     "text": [
      "Current time is: 2025-08-20 20:57:41.835951\n"
     ]
    }
   ],
   "source": [
    "import datetime\n",
    "print(\"Current time is:\", datetime.datetime.now())"
   ]
  },
  {
   "cell_type": "markdown",
   "id": "0f2329fc",
   "metadata": {},
   "source": [
    "# Some Challenges\n",
    "* Can you print your name 10 times?"
   ]
  },
  {
   "cell_type": "code",
   "execution_count": 7,
   "id": "f23fa02e",
   "metadata": {},
   "outputs": [
    {
     "name": "stdout",
     "output_type": "stream",
     "text": [
      "QianqianQianqianQianqianQianqianQianqianQianqianQianqianQianqianQianqianQianqian\n"
     ]
    }
   ],
   "source": [
    "print(\"Qianqian\" * 10)"
   ]
  },
  {
   "cell_type": "markdown",
   "id": "da06d878",
   "metadata": {},
   "source": [
    "* Print the multiplication table for 5 (up to 10)."
   ]
  },
  {
   "cell_type": "code",
   "execution_count": 8,
   "id": "13672741",
   "metadata": {},
   "outputs": [
    {
     "name": "stdout",
     "output_type": "stream",
     "text": [
      "5 x 1 = 5\n",
      "5 x 2 = 10\n",
      "5 x 3 = 15\n",
      "5 x 4 = 20\n",
      "5 x 5 = 25\n",
      "5 x 6 = 30\n",
      "5 x 7 = 35\n",
      "5 x 8 = 40\n",
      "5 x 9 = 45\n",
      "5 x 10 = 50\n"
     ]
    }
   ],
   "source": [
    "for i in range(1, 11):\n",
    "    print(\"5 x\", i, \"=\", 5*i)"
   ]
  },
  {
   "cell_type": "markdown",
   "id": "82b42cec",
   "metadata": {},
   "source": [
    "# Let's do some plotting"
   ]
  },
  {
   "cell_type": "code",
   "execution_count": 9,
   "id": "cefcc7ea",
   "metadata": {},
   "outputs": [
    {
     "data": {
      "image/png": "[encoded data removed]",
      "text/plain": [
       "<Figure size 640x480 with 1 Axes>"
      ]
     },
     "metadata": {},
     "output_type": "display_data"
    }
   ],
   "source": [
    "import matplotlib.pyplot as plt\n",
    "\n",
    "x = list(range(0, 11))\n",
    "y = [i**2 for i in x]\n",
    "\n",
    "plt.plot(x, y)\n",
    "plt.title(\"y = x^2\")\n",
    "plt.xlabel(\"x\")\n",
    "plt.ylabel(\"y\")\n",
    "plt.show()"
   ]
  },
  {
   "cell_type": "markdown",
   "id": "ff05b42a",
   "metadata": {},
   "source": [
    "Push this notebook to your GitHub repo with your name in it!"
   ]
  }
 ],
 "metadata": {
  "kernelspec": {
   "display_name": "Python 3 (ipykernel)",
   "language": "python",
   "name": "python3"
  },
  "language_info": {
   "codemirror_mode": {
    "name": "ipython",
    "version": 3
   },
   "file_extension": ".py",
   "mimetype": "text/x-python",
   "name": "python",
   "nbconvert_exporter": "python",
   "pygments_lexer": "ipython3",
   "version": "3.9.13"
  }
 },
 "nbformat": 4,
 "nbformat_minor": 5
}
